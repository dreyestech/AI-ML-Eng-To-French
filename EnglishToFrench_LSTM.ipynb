{
 "cells": [
  {
   "cell_type": "code",
   "execution_count": 1,
   "id": "e3577893",
   "metadata": {},
   "outputs": [],
   "source": [
    "import numpy as np \n",
    "import tensorflow as tf\n",
    "from tensorflow import keras"
   ]
  },
  {
   "cell_type": "markdown",
   "id": "cc4eec74",
   "metadata": {},
   "source": [
    "<h1>Download, Prepare, and Configure Data </h1>"
   ]
  },
  {
   "cell_type": "code",
   "execution_count": 2,
   "id": "ca4e4609",
   "metadata": {},
   "outputs": [],
   "source": [
    "# Path to the data txt file on disk.\n",
    "data_path = \"fra.txt\""
   ]
  },
  {
   "cell_type": "code",
   "execution_count": 3,
   "id": "9fc5411d",
   "metadata": {},
   "outputs": [
    {
     "data": {
      "text/plain": [
       "'fra.txt'"
      ]
     },
     "execution_count": 3,
     "metadata": {},
     "output_type": "execute_result"
    }
   ],
   "source": [
    "data_path"
   ]
  },
  {
   "cell_type": "code",
   "execution_count": 4,
   "id": "f98f8f12",
   "metadata": {},
   "outputs": [],
   "source": [
    "batch_size = 64  # Batch size for training.\n",
    "epochs = 100  # Number of epochs to train for.\n",
    "latent_dim = 256  # Latent dimensionality of the encoding space.\n",
    "num_samples = 10000  # Number of samples to train on."
   ]
  },
  {
   "cell_type": "code",
   "execution_count": 5,
   "id": "abc0ce5f",
   "metadata": {},
   "outputs": [],
   "source": [
    "#vectorize data and sort characters sets from texts\n",
    "input_texts = []\n",
    "target_texts = []\n",
    "input_characters = set()\n",
    "target_characters = set()\n",
    "\n",
    "i=0\n",
    "with open(data_path, \"r\", encoding=\"utf-8\") as f:\n",
    "    lines = f.read().split(\"\\n\")\n",
    "\"\"\"\n",
    "lines first 2 line values below\n",
    "\n",
    "input_text: Go.\n",
    "target_text: Va !\n",
    "_: CC-BY 2.0 (France) Attribution: tatoeba.org #2877272 (CM) & #1158250 (Wittydev)\n",
    "\n",
    "input_text: Go.\n",
    "target_text: Marche.\n",
    "_: CC-BY 2.0 (France) Attribution: tatoeba.org #2877272 (CM) & #8090732 (Micsmithel)\n",
    "\n",
    "\"\"\"\n",
    "#only go to number 9999 (10000-1)\n",
    "for line in lines[:min(num_samples,len(lines)-1)]:\n",
    "    i+=1\n",
    "    if i<250:\n",
    "        input_text, target_text, _ = line.split(\"\\t\")\n",
    "        # tab will denote start sequence and new line char will denote end sequence\n",
    "        target_text = \"\\t\"+ target_text + \"\\n\"\n",
    "        input_texts.append(input_text)\n",
    "        target_texts.append(target_text)\n",
    "        for char in input_text:\n",
    "            input_characters.add(char)\n",
    "        for char in target_text:\n",
    "            target_characters.add(char)\n",
    "            \n",
    "\n",
    "input_characters = sorted(list(input_characters))\n",
    "target_characters = sorted(list(target_characters))\n",
    "num_encoder_tokens = len(input_characters)\n",
    "num_decoder_tokens = len(target_characters)\n",
    "# max length of input text (English word, phrase, sentence, etc.)\n",
    "max_encoder_seq_length = max([len(txt) for txt in input_texts])\n",
    "# max length of target text (French word, phrase, sentence, etc.)\n",
    "max_decoder_seq_length = max([len(txt) for txt in target_texts])"
   ]
  },
  {
   "cell_type": "code",
   "execution_count": 6,
   "id": "395038f7",
   "metadata": {},
   "outputs": [
    {
     "name": "stdout",
     "output_type": "stream",
     "text": [
      "Number of samples: 249\n",
      "Number of unique input tokens: 47\n",
      "Number of unique output tokens: 71\n",
      "Max sequence length for inputs: 8\n",
      "Max sequence length for outputs: 32\n"
     ]
    }
   ],
   "source": [
    "print(\"Number of samples:\", len(input_texts))\n",
    "print(\"Number of unique input tokens:\", num_encoder_tokens)\n",
    "print(\"Number of unique output tokens:\", num_decoder_tokens)\n",
    "print(\"Max sequence length for inputs:\", max_encoder_seq_length)\n",
    "print(\"Max sequence length for outputs:\", max_decoder_seq_length)"
   ]
  },
  {
   "cell_type": "code",
   "execution_count": 10,
   "id": "99716cd6",
   "metadata": {},
   "outputs": [],
   "source": [
    "# Index input and output tokens\n",
    "input_token_index = dict([(char,i) for i, char in enumerate(input_characters)])\n",
    "target_token_index = dict([(char,i) for i, char in enumerate(target_characters)])"
   ]
  },
  {
   "cell_type": "code",
   "execution_count": 11,
   "id": "18309629",
   "metadata": {},
   "outputs": [],
   "source": [
    "encoder_input_data = np.zeros((len(input_texts), max_encoder_seq_length, num_encoder_tokens), dtype=\"float32\")"
   ]
  },
  {
   "cell_type": "code",
   "execution_count": 28,
   "id": "af66fd33",
   "metadata": {},
   "outputs": [],
   "source": [
    "decoder_input_data = np.zeros((len(input_texts), max_decoder_seq_length, num_decoder_tokens), dtype=\"float32\")"
   ]
  },
  {
   "cell_type": "code",
   "execution_count": 29,
   "id": "ca141424",
   "metadata": {},
   "outputs": [],
   "source": [
    "decoder_target_data = np.zeros((len(input_texts), max_decoder_seq_length, num_decoder_tokens), dtype=\"float32\")"
   ]
  },
  {
   "cell_type": "code",
   "execution_count": 41,
   "id": "da51b7e0",
   "metadata": {},
   "outputs": [],
   "source": [
    "for i, (input_text, target_text) in enumerate(zip(input_texts, target_texts)):\n",
    "    for t, char in enumerate(input_text):\n",
    "        encoder_input_data[i, t, input_token_index[char]] = 1.0\n",
    "    encoder_input_data[i, t + 1 :, input_token_index[\" \"]] = 1.0\n",
    "    for t, char in enumerate(target_text):\n",
    "        # decoder_target_data is ahead of decoder_input_data by one timestep\n",
    "        decoder_input_data[i, t, target_token_index[char]] = 1.0\n",
    "        if t > 0:\n",
    "            # decoder_target_data will be ahead by one timestep\n",
    "            # and will not include the start character.\n",
    "            decoder_target_data[i, t - 1, target_token_index[char]] = 1.0\n",
    "    decoder_input_data[i, t + 1 :, target_token_index[\" \"]] = 1.0\n",
    "    decoder_target_data[i, t:, target_token_index[\" \"]] = 1.0"
   ]
  },
  {
   "cell_type": "markdown",
   "id": "3d6ab508",
   "metadata": {},
   "source": [
    "<h1>Build the model</h1>"
   ]
  },
  {
   "cell_type": "code",
   "execution_count": 42,
   "id": "4c1b2fd2",
   "metadata": {},
   "outputs": [],
   "source": [
    "# Define an input sequence and process it.\n",
    "encoder_inputs = keras.Input(shape=(None, num_encoder_tokens))"
   ]
  },
  {
   "cell_type": "code",
   "execution_count": 44,
   "id": "4e3823f8",
   "metadata": {},
   "outputs": [],
   "source": [
    "encoder = keras.layers.LSTM(latent_dim, return_state=True)"
   ]
  },
  {
   "cell_type": "code",
   "execution_count": 46,
   "id": "803eab71",
   "metadata": {},
   "outputs": [],
   "source": [
    "encoder_outputs, state_h, state_c = encoder(encoder_inputs)"
   ]
  },
  {
   "cell_type": "code",
   "execution_count": 50,
   "id": "e4382a2b",
   "metadata": {},
   "outputs": [],
   "source": [
    "# Discard `encoder_outputs` and only keep the states.\n",
    "encoder_states = [state_h, state_c]\n",
    "\n",
    "# Set up the decoder, using `encoder_states` as initial state.\n",
    "decoder_inputs = keras.Input(shape=(None, num_decoder_tokens))"
   ]
  },
  {
   "cell_type": "code",
   "execution_count": 52,
   "id": "6b912f4c",
   "metadata": {},
   "outputs": [],
   "source": [
    "# Set up our decoder to return full output sequences,\n",
    "# Return internal states\n",
    "# Return states not used in the training model, but used in inference\n",
    "decoder_lstm = keras.layers.LSTM(latent_dim, return_sequences=True, return_state=True)\n",
    "decoder_outputs, _, _ = decoder_lstm(decoder_inputs, initial_state=encoder_states)\n",
    "decoder_dense = keras.layers.Dense(num_decoder_tokens, activation=\"softmax\")\n",
    "decoder_outputs = decoder_dense(decoder_outputs)"
   ]
  },
  {
   "cell_type": "code",
   "execution_count": 54,
   "id": "fd96630d",
   "metadata": {},
   "outputs": [],
   "source": [
    "# Define the model that will take `encoder_input_data` & `decoder_input_data`\n",
    "# and return `decoder_target_data`\n",
    "model = keras.Model([encoder_inputs, decoder_inputs], decoder_outputs)"
   ]
  },
  {
   "cell_type": "markdown",
   "id": "7f44958e",
   "metadata": {},
   "source": [
    "<h1>Train the model</h1>"
   ]
  },
  {
   "cell_type": "code",
   "execution_count": null,
   "id": "993e7bb1",
   "metadata": {},
   "outputs": [],
   "source": [
    "model.compile(\n",
    "    optimizer=\"rmsprop\", loss=\"categorical_crossentropy\", metrics=[\"accuracy\"])"
   ]
  }
 ],
 "metadata": {
  "kernelspec": {
   "display_name": "Python 3 (ipykernel)",
   "language": "python",
   "name": "python3"
  },
  "language_info": {
   "codemirror_mode": {
    "name": "ipython",
    "version": 3
   },
   "file_extension": ".py",
   "mimetype": "text/x-python",
   "name": "python",
   "nbconvert_exporter": "python",
   "pygments_lexer": "ipython3",
   "version": "3.11.4"
  }
 },
 "nbformat": 4,
 "nbformat_minor": 5
}
