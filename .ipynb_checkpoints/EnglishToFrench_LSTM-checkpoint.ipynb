{
 "cells": [
  {
   "cell_type": "code",
   "execution_count": 1,
   "id": "cb23efe0",
   "metadata": {},
   "outputs": [],
   "source": [
    "import numpy as np \n",
    "import tensorflow as tf\n",
    "from tensorflow import keras"
   ]
  },
  {
   "cell_type": "code",
   "execution_count": 2,
   "id": "3a9d0ddb",
   "metadata": {},
   "outputs": [],
   "source": [
    "# Path to the data txt file on disk.\n",
    "data_path = \"fra.txt\""
   ]
  },
  {
   "cell_type": "code",
   "execution_count": 3,
   "id": "c9077b6a",
   "metadata": {},
   "outputs": [
    {
     "data": {
      "text/plain": [
       "'fra.txt'"
      ]
     },
     "execution_count": 3,
     "metadata": {},
     "output_type": "execute_result"
    }
   ],
   "source": [
    "data_path"
   ]
  },
  {
   "cell_type": "code",
   "execution_count": 11,
   "id": "34721ca4",
   "metadata": {},
   "outputs": [],
   "source": [
    "batch_size = 64  # Batch size for training.\n",
    "epochs = 100  # Number of epochs to train for.\n",
    "latent_dim = 256  # Latent dimensionality of the encoding space.\n",
    "num_samples = 10000  # Number of samples to train on."
   ]
  },
  {
   "cell_type": "code",
   "execution_count": 25,
   "id": "63553196",
   "metadata": {},
   "outputs": [
    {
     "name": "stdout",
     "output_type": "stream",
     "text": [
      "{'!', 'u', 'J', 'p', '?', 'C', 'y', 'n', 'E', 'k', 'w', 'g', 'W', 'S', 'R', 'o', 'i', 'r', 'c', 'A', 'O', 'h', 'e', '.', 'd', 't', 'a', 'G', 'm', 'I', 'B', 'H', 's', 'F', ' ', 'l', 'x', 'D'}\n",
      "{'!', 'u', 'J', 'p', '?', 'C', 'y', 'n', 'E', 'k', 'w', 'g', 'W', 'S', 'R', 'o', 'i', 'r', 'c', 'A', 'O', 'h', 'e', '.', 'd', 't', 'a', 'G', 'm', 'I', 'B', 'H', 's', 'F', ' ', 'l', 'x', 'D'}\n"
     ]
    }
   ],
   "source": [
    "#vectorize data\n",
    "input_texts = []\n",
    "target_texts = []\n",
    "input_characters = set()\n",
    "target_characters = set()\n",
    "\n",
    "i=0\n",
    "with open(data_path, \"r\", encoding=\"utf-8\") as f:\n",
    "    lines = f.read().split(\"\\n\")\n",
    "\"\"\"\n",
    "lines first 2 line values below\n",
    "\n",
    "input_text: Go.\n",
    "target_text: Va !\n",
    "_: CC-BY 2.0 (France) Attribution: tatoeba.org #2877272 (CM) & #1158250 (Wittydev)\n",
    "\n",
    "input_text: Go.\n",
    "target_text: Marche.\n",
    "_: CC-BY 2.0 (France) Attribution: tatoeba.org #2877272 (CM) & #8090732 (Micsmithel)\n",
    "\n",
    "\"\"\"\n",
    "#only go to number 9999 (10000-1)\n",
    "for line in lines[:min(num_samples,len(lines)-1)]:\n",
    "    i+=1\n",
    "    if i<100:\n",
    "        input_text, target_text, _ = line.split(\"\\t\")\n",
    "        # tab will denote start sequence and new line char will denote end sequence\n",
    "        target_text = \"\\t\"+ target_text + \"\\n\"\n",
    "        input_texts.append(input_text)\n",
    "        target_texts.append(target_text)\n",
    "        for char in input_text:\n",
    "            input_characters.add(char)\n",
    "        for char in target_text:\n",
    "            target__characters.add(char)"
   ]
  },
  {
   "cell_type": "code",
   "execution_count": null,
   "id": "f77fb033",
   "metadata": {},
   "outputs": [],
   "source": [
    "227816"
   ]
  }
 ],
 "metadata": {
  "kernelspec": {
   "display_name": "Python 3 (ipykernel)",
   "language": "python",
   "name": "python3"
  },
  "language_info": {
   "codemirror_mode": {
    "name": "ipython",
    "version": 3
   },
   "file_extension": ".py",
   "mimetype": "text/x-python",
   "name": "python",
   "nbconvert_exporter": "python",
   "pygments_lexer": "ipython3",
   "version": "3.11.4"
  }
 },
 "nbformat": 4,
 "nbformat_minor": 5
}
